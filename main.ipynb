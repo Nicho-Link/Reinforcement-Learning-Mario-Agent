{
 "cells": [
  {
   "cell_type": "markdown",
   "metadata": {},
   "source": [
    "# Evaluierung des Agents"
   ]
  },
  {
   "cell_type": "markdown",
   "metadata": {},
   "source": [
    "#### Imports"
   ]
  },
  {
   "cell_type": "code",
   "execution_count": 1,
   "metadata": {},
   "outputs": [
    {
     "data": {
      "text/plain": [
       "device(type='cuda')"
      ]
     },
     "execution_count": 1,
     "metadata": {},
     "output_type": "execute_result"
    }
   ],
   "source": [
    "import os\n",
    "\n",
    "os.environ[\"KMP_DUPLICATE_LIB_OK\"] = \"True\"\n",
    "\n",
    "from nes_py.wrappers import JoypadSpace\n",
    "import torch\n",
    "import numpy as np\n",
    "from tqdm import tqdm\n",
    "import gym\n",
    "import gym_super_mario_bros\n",
    "from gym.wrappers import (\n",
    "    FrameStack,\n",
    "    GrayScaleObservation,\n",
    "    ResizeObservation,\n",
    "    TransformObservation,\n",
    "    Monitor,\n",
    ")\n",
    "\n",
    "# Import own Functions\n",
    "from src.helper_functions.create_Plot import plot_results\n",
    "from src.helper_functions.create_Agent import MarioAgentEpsilonGreedy\n",
    "\n",
    "device = torch.device(\"cuda\" if torch.cuda.is_available() else \"cpu\")\n",
    "device"
   ]
  },
  {
   "cell_type": "markdown",
   "metadata": {},
   "source": [
    "#### Initialisierung aller Komponenten"
   ]
  },
  {
   "cell_type": "markdown",
   "metadata": {},
   "source": [
    "### Select the model"
   ]
  },
  {
   "cell_type": "code",
   "execution_count": 2,
   "metadata": {},
   "outputs": [],
   "source": [
    "starting_point = os.path.join(\"models\", \"training_v2\", \"final_model.pth\")"
   ]
  },
  {
   "cell_type": "code",
   "execution_count": 3,
   "metadata": {},
   "outputs": [],
   "source": [
    "action_space = [\n",
    "    [\"NOOP\"],\n",
    "    [\"A\"],\n",
    "    [\"B\"],\n",
    "    [\"right\"],\n",
    "    [\"left\"],\n",
    "    [\"right\", \"A\"],\n",
    "    [\"right\", \"B\"],\n",
    "    [\"right\", \"A\", \"B\"],\n",
    "]\n",
    "stacking_number = 10\n",
    "num_episodes = 10\n",
    "\n",
    "\n",
    "\n",
    "eval_folder = os.path.join(\"res\", \"eval\")\n",
    "if not os.path.exists(eval_folder):\n",
    "    os.makedirs(eval_folder)\n",
    "vid_folder = os.path.join(eval_folder, \"all_videos\")\n",
    "if not os.path.exists(vid_folder):\n",
    "    os.makedirs(vid_folder)\n",
    "plot_folder = os.path.join(eval_folder, \"plots\")\n",
    "if not os.path.exists(plot_folder):\n",
    "    os.makedirs(plot_folder)"
   ]
  },
  {
   "cell_type": "code",
   "execution_count": 4,
   "metadata": {},
   "outputs": [],
   "source": [
    "env = gym_super_mario_bros.make(\"SuperMarioBros-1-1-v0\")\n",
    "env = JoypadSpace(env, action_space)\n",
    "env = Monitor(env, vid_folder, video_callable=lambda episode_id: True, force=True)\n",
    "env = GrayScaleObservation(env, keep_dim=False)\n",
    "env = ResizeObservation(env, shape=84)\n",
    "env = TransformObservation(env, lambda obs: np.squeeze(obs, axis=-1))\n",
    "env = TransformObservation(env, f=lambda x: x / 255.0)\n",
    "env = FrameStack(env, num_stack=stacking_number)\n",
    "\n",
    "\n",
    "state = env.reset()\n",
    "state_shape = state.shape"
   ]
  },
  {
   "cell_type": "code",
   "execution_count": 5,
   "metadata": {},
   "outputs": [
    {
     "name": "stdout",
     "output_type": "stream",
     "text": [
      "Model loaded from models\\training_v2\\final_model.pth with epsilon 0.01\n"
     ]
    }
   ],
   "source": [
    "agent = mario = MarioAgentEpsilonGreedy(\n",
    "    num_actions=len(action_space),\n",
    "    state_shape=state_shape,\n",
    "    wantcuda=True,\n",
    "    checkpoint_folder=None,\n",
    "    model_folder=None,\n",
    "    starting_point=starting_point,\n",
    ")\n",
    "agent.epsilon = 0.0\n",
    "agent.model.eval()\n",
    "\n",
    "reward_list = []\n",
    "steps_list = []\n",
    "q_list = []\n",
    "loss_list = []\n",
    "epsilon_list = []"
   ]
  },
  {
   "cell_type": "markdown",
   "metadata": {},
   "source": [
    "#### Loop to watch the model play"
   ]
  },
  {
   "cell_type": "code",
   "execution_count": 6,
   "metadata": {},
   "outputs": [
    {
     "name": "stderr",
     "output_type": "stream",
     "text": [
      "  0%|          | 0/10 [00:00<?, ?it/s]c:\\Users\\nicho\\OneDrive\\Dokumente\\A - DHBW\\6. Semester\\AML\\Abgaben\\Coding\\Reinforcement-Learning\\src\\helper_functions\\create_Agent.py:104: UserWarning: Creating a tensor from a list of numpy.ndarrays is extremely slow. Please consider converting the list to a single numpy.ndarray with numpy.array() before converting to a tensor. (Triggered internally at ..\\torch\\csrc\\utils\\tensor_new.cpp:277.)\n",
      "  state = torch.tensor(state, dtype=torch.float32, device=self.device)\n",
      "c:\\Users\\nicho\\OneDrive\\Dokumente\\A - DHBW\\6. Semester\\AML\\Abgaben\\Coding\\Reinforcement-Learning\\venv\\Lib\\site-packages\\gym_super_mario_bros\\smb_env.py:148: RuntimeWarning: overflow encountered in scalar subtract\n",
      "  return (self.ram[0x86] - self.ram[0x071c]) % 256\n",
      " 10%|█         | 1/10 [01:08<10:20, 68.98s/it]"
     ]
    },
    {
     "name": "stdout",
     "output_type": "stream",
     "text": [
      "Episode 1 abgeschlossen mit 3861 Schritten, Gesamtbelohnung: 887.0, Epsilon: 0.0\n",
      "\n",
      "\n"
     ]
    },
    {
     "name": "stderr",
     "output_type": "stream",
     "text": [
      " 20%|██        | 2/10 [02:18<09:15, 69.44s/it]"
     ]
    },
    {
     "name": "stdout",
     "output_type": "stream",
     "text": [
      "Episode 2 abgeschlossen mit 3861 Schritten, Gesamtbelohnung: 887.0, Epsilon: 0.0\n",
      "\n",
      "\n"
     ]
    },
    {
     "name": "stderr",
     "output_type": "stream",
     "text": [
      " 30%|███       | 3/10 [03:28<08:07, 69.58s/it]"
     ]
    },
    {
     "name": "stdout",
     "output_type": "stream",
     "text": [
      "Episode 3 abgeschlossen mit 3861 Schritten, Gesamtbelohnung: 887.0, Epsilon: 0.0\n",
      "\n",
      "\n"
     ]
    },
    {
     "name": "stderr",
     "output_type": "stream",
     "text": [
      " 40%|████      | 4/10 [04:38<06:58, 69.76s/it]"
     ]
    },
    {
     "name": "stdout",
     "output_type": "stream",
     "text": [
      "Episode 4 abgeschlossen mit 3861 Schritten, Gesamtbelohnung: 887.0, Epsilon: 0.0\n",
      "\n",
      "\n"
     ]
    },
    {
     "name": "stderr",
     "output_type": "stream",
     "text": [
      " 50%|█████     | 5/10 [05:49<05:50, 70.15s/it]"
     ]
    },
    {
     "name": "stdout",
     "output_type": "stream",
     "text": [
      "Episode 5 abgeschlossen mit 3861 Schritten, Gesamtbelohnung: 887.0, Epsilon: 0.0\n",
      "\n",
      "\n"
     ]
    },
    {
     "name": "stderr",
     "output_type": "stream",
     "text": [
      " 60%|██████    | 6/10 [07:02<04:44, 71.05s/it]"
     ]
    },
    {
     "name": "stdout",
     "output_type": "stream",
     "text": [
      "Episode 6 abgeschlossen mit 3861 Schritten, Gesamtbelohnung: 887.0, Epsilon: 0.0\n",
      "\n",
      "\n"
     ]
    },
    {
     "name": "stderr",
     "output_type": "stream",
     "text": [
      " 70%|███████   | 7/10 [08:18<03:38, 72.90s/it]"
     ]
    },
    {
     "name": "stdout",
     "output_type": "stream",
     "text": [
      "Episode 7 abgeschlossen mit 3861 Schritten, Gesamtbelohnung: 887.0, Epsilon: 0.0\n",
      "\n",
      "\n"
     ]
    },
    {
     "name": "stderr",
     "output_type": "stream",
     "text": [
      " 80%|████████  | 8/10 [09:35<02:28, 74.18s/it]"
     ]
    },
    {
     "name": "stdout",
     "output_type": "stream",
     "text": [
      "Episode 8 abgeschlossen mit 3861 Schritten, Gesamtbelohnung: 887.0, Epsilon: 0.0\n",
      "\n",
      "\n"
     ]
    },
    {
     "name": "stderr",
     "output_type": "stream",
     "text": [
      " 90%|█████████ | 9/10 [10:59<01:17, 77.30s/it]"
     ]
    },
    {
     "name": "stdout",
     "output_type": "stream",
     "text": [
      "Episode 9 abgeschlossen mit 3861 Schritten, Gesamtbelohnung: 887.0, Epsilon: 0.0\n",
      "\n",
      "\n"
     ]
    },
    {
     "name": "stderr",
     "output_type": "stream",
     "text": [
      "100%|██████████| 10/10 [12:24<00:00, 74.43s/it]"
     ]
    },
    {
     "name": "stdout",
     "output_type": "stream",
     "text": [
      "Episode 10 abgeschlossen mit 3861 Schritten, Gesamtbelohnung: 887.0, Epsilon: 0.0\n",
      "\n",
      "\n"
     ]
    },
    {
     "name": "stderr",
     "output_type": "stream",
     "text": [
      "\n"
     ]
    },
    {
     "data": {
      "image/png": "[encoded data removed]",
      "text/plain": [
       "<Figure size 1200x1200 with 5 Axes>"
      ]
     },
     "metadata": {},
     "output_type": "display_data"
    }
   ],
   "source": [
    "for episode in tqdm(range(1, num_episodes + 1)):\n",
    "    state = env.reset()\n",
    "    total_reward = 0\n",
    "    steps = 0\n",
    "    mean_episode_q = []\n",
    "    mean_episode_loss = []\n",
    "    resetnow = False\n",
    "    # Initiate loop for the current episode to play the game until it ends\n",
    "    while resetnow==False:\n",
    "        # To visualize the game\n",
    "        env.render()\n",
    "        action = agent.selectAction(state)\n",
    "        next_state, reward, resetnow, info = env.step(action)\n",
    "        resetnow = resetnow\n",
    "        agent.saveExp(state, action, next_state, reward, resetnow)\n",
    "        q, loss = agent.learn_get_TDest_loss()\n",
    "        state = next_state\n",
    "        total_reward = total_reward + reward\n",
    "        steps = steps + 1\n",
    "        mean_episode_q.append(q)\n",
    "        mean_episode_loss.append(loss)\n",
    "    print(\n",
    "        f\"Episode {episode} abgeschlossen mit {steps} Schritten, Gesamtbelohnung: {total_reward}, Epsilon: {agent.epsilon}\\n\\n\"\n",
    "    )\n",
    "    # Save the results of the current episode\n",
    "    reward_list.append(total_reward)\n",
    "    steps_list.append(steps)\n",
    "    q_list.append(np.mean(mean_episode_q))\n",
    "    loss_list.append(np.mean(mean_episode_loss))\n",
    "    epsilon_list.append(agent.epsilon)\n",
    "\n",
    "# Plot the results of all episodes at the defined intervals\n",
    "plot_results(\n",
    "    reward_list,\n",
    "    steps_list,\n",
    "    q_list,\n",
    "    loss_list,\n",
    "    epsilon_list,\n",
    "    os.path.join(plot_folder, f\"plot_{episode}.png\"),\n",
    ")\n",
    "\n",
    "# Close the environment\n",
    "env.close()"
   ]
  }
 ],
 "metadata": {
  "kernelspec": {
   "display_name": ".venv",
   "language": "python",
   "name": "python3"
  },
  "language_info": {
   "codemirror_mode": {
    "name": "ipython",
    "version": 3
   },
   "file_extension": ".py",
   "mimetype": "text/x-python",
   "name": "python",
   "nbconvert_exporter": "python",
   "pygments_lexer": "ipython3",
   "version": "3.11.9"
  }
 },
 "nbformat": 4,
 "nbformat_minor": 2
}
